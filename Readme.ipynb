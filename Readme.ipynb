{
 "cells": [
  {
   "cell_type": "markdown",
   "id": "a07fef15",
   "metadata": {},
   "source": [
    "[![Build and Test chx_matrix on multiple OS and architectures](https://github.com/Christux/chx-matrix/actions/workflows/build-test.yml/badge.svg?branch=main)](https://github.com/Christux/chx-matrix/actions/workflows/build-test.yml)\n",
    "\n",
    "# Matrix\n",
    "A light matrix manipulation and calculation module\n",
    "\n",
    "## Installation & build\n",
    "\n",
    "### Create virtual environmeent\n",
    "```\n",
    "python3.12 -m venv .venv\n",
    "```\n",
    "\n",
    "### Activate\n",
    "```\n",
    "source .venv/bin/activate\n",
    "```\n",
    "\n",
    "### Install dependencies\n",
    "```\n",
    "pip install -r requirements.txt\n",
    "```\n",
    "\n",
    "### Backup env\n",
    "```\n",
    "pip freeze > requirements.txt\n",
    "```\n",
    "\n",
    "### Build module\n",
    "```\n",
    "make build\n",
    "```"
   ]
  },
  {
   "cell_type": "markdown",
   "id": "424072a1",
   "metadata": {},
   "source": [
    "## Matrix features"
   ]
  },
  {
   "cell_type": "markdown",
   "id": "8c3d5b54",
   "metadata": {},
   "source": [
    "### Import module"
   ]
  },
  {
   "cell_type": "code",
   "execution_count": 1,
   "id": "c715b991",
   "metadata": {},
   "outputs": [],
   "source": [
    "from chx_matrix import Matrix"
   ]
  },
  {
   "cell_type": "markdown",
   "id": "f124cdba",
   "metadata": {},
   "source": [
    "### Instanciate new Matrix"
   ]
  },
  {
   "cell_type": "code",
   "execution_count": 2,
   "id": "d83be278",
   "metadata": {},
   "outputs": [
    {
     "data": {
      "text/plain": [
       "[\n",
       "  [0.00, 0.00, 0.00, 0.00],\n",
       "  [0.00, 0.00, 0.00, 0.00],\n",
       "  [0.00, 0.00, 0.00, 0.00],\n",
       "]"
      ]
     },
     "execution_count": 2,
     "metadata": {},
     "output_type": "execute_result"
    }
   ],
   "source": [
    "m = Matrix(3, 4)\n",
    "m"
   ]
  },
  {
   "cell_type": "markdown",
   "id": "e92062b6",
   "metadata": {},
   "source": [
    "### Set values"
   ]
  },
  {
   "cell_type": "code",
   "execution_count": 3,
   "id": "1741e294",
   "metadata": {},
   "outputs": [
    {
     "data": {
      "text/plain": [
       "[\n",
       "  [4.00, 4.00, 4.00, 4.00],\n",
       "  [6.00, 7.00, 4.00, 4.00],\n",
       "  [4.00, 4.00, 4.00, 4.00],\n",
       "]"
      ]
     },
     "execution_count": 3,
     "metadata": {},
     "output_type": "execute_result"
    }
   ],
   "source": [
    "m.set_all(4)\n",
    "m.set(1, 0, 6)\n",
    "m.set(1, 1, 7)\n",
    "m"
   ]
  },
  {
   "cell_type": "code",
   "execution_count": 4,
   "id": "590d1f15",
   "metadata": {},
   "outputs": [
    {
     "data": {
      "text/plain": [
       "[\n",
       "  [4.00, 6.00, 4.00],\n",
       "  [4.00, 7.00, 4.00],\n",
       "  [4.00, 4.00, 4.00],\n",
       "  [4.00, 4.00, 4.00],\n",
       "]"
      ]
     },
     "execution_count": 4,
     "metadata": {},
     "output_type": "execute_result"
    }
   ],
   "source": [
    "n = m.transpose()\n",
    "n"
   ]
  },
  {
   "cell_type": "code",
   "execution_count": 5,
   "id": "eea03128",
   "metadata": {},
   "outputs": [
    {
     "data": {
      "text/plain": [
       "[\n",
       "  [4.00, 4.00, 4.00, 4.00],\n",
       "  [6.00, 7.00, 4.00, 4.00],\n",
       "  [4.00, 4.00, 4.00, 4.00],\n",
       "]"
      ]
     },
     "execution_count": 5,
     "metadata": {},
     "output_type": "execute_result"
    }
   ],
   "source": [
    "c = m.copy()\n",
    "\n",
    "m.set_all(42)\n",
    "\n",
    "c"
   ]
  },
  {
   "cell_type": "code",
   "execution_count": 6,
   "id": "14bdf8fa",
   "metadata": {},
   "outputs": [
    {
     "data": {
      "text/plain": [
       "[\n",
       "  [6.00, 7.00],\n",
       "  [4.00, 4.00],\n",
       "]"
      ]
     },
     "execution_count": 6,
     "metadata": {},
     "output_type": "execute_result"
    }
   ],
   "source": [
    "s = c.get_sub_matrix(1, 2, 0, 1)\n",
    "s"
   ]
  },
  {
   "cell_type": "code",
   "execution_count": 7,
   "id": "d37e3b21",
   "metadata": {},
   "outputs": [
    {
     "data": {
      "text/plain": [
       "[\n",
       "  [6.00, 6.00],\n",
       "  [6.00, 6.00],\n",
       "]"
      ]
     },
     "execution_count": 7,
     "metadata": {},
     "output_type": "execute_result"
    }
   ],
   "source": [
    "s.set_all(6)\n",
    "s"
   ]
  },
  {
   "cell_type": "code",
   "execution_count": 8,
   "id": "22503e45",
   "metadata": {},
   "outputs": [
    {
     "data": {
      "text/plain": [
       "[\n",
       "  [4.00, 4.00, 4.00, 4.00],\n",
       "  [6.00, 6.00, 4.00, 4.00],\n",
       "  [6.00, 6.00, 4.00, 4.00],\n",
       "]"
      ]
     },
     "execution_count": 8,
     "metadata": {},
     "output_type": "execute_result"
    }
   ],
   "source": [
    "c"
   ]
  },
  {
   "cell_type": "code",
   "execution_count": 9,
   "id": "fdf292d5",
   "metadata": {},
   "outputs": [
    {
     "data": {
      "text/plain": [
       "[\n",
       "  [5.00, 5.00],\n",
       "  [2.00, 2.00],\n",
       "  [5.00, 5.00],\n",
       "]"
      ]
     },
     "execution_count": 9,
     "metadata": {},
     "output_type": "execute_result"
    }
   ],
   "source": [
    "m = Matrix(3, 2)\n",
    "m.set_all(5.)\n",
    "\n",
    "s = m[1, :]\n",
    "\n",
    "s.set_all(2)\n",
    "\n",
    "m"
   ]
  },
  {
   "cell_type": "code",
   "execution_count": 10,
   "id": "772f7eeb",
   "metadata": {},
   "outputs": [
    {
     "data": {
      "text/plain": [
       "[\n",
       "  [2.00, 2.00],\n",
       "]"
      ]
     },
     "execution_count": 10,
     "metadata": {},
     "output_type": "execute_result"
    }
   ],
   "source": [
    "m.get_row(1)"
   ]
  },
  {
   "cell_type": "code",
   "execution_count": 11,
   "id": "6e43038c",
   "metadata": {},
   "outputs": [
    {
     "data": {
      "text/plain": [
       "[\n",
       "  [5.00],\n",
       "  [2.00],\n",
       "  [5.00],\n",
       "]"
      ]
     },
     "execution_count": 11,
     "metadata": {},
     "output_type": "execute_result"
    }
   ],
   "source": [
    "m.get_column(1)"
   ]
  },
  {
   "cell_type": "code",
   "execution_count": 12,
   "id": "fc8eaf19",
   "metadata": {},
   "outputs": [
    {
     "data": {
      "text/plain": [
       "[\n",
       "  [5.00, 2.00, 3.00],\n",
       "]"
      ]
     },
     "execution_count": 12,
     "metadata": {},
     "output_type": "execute_result"
    }
   ],
   "source": [
    "m.get_column(1).transpose().set(2, 3.)"
   ]
  }
 ],
 "metadata": {
  "kernelspec": {
   "display_name": ".venv",
   "language": "python",
   "name": "python3"
  },
  "language_info": {
   "codemirror_mode": {
    "name": "ipython",
    "version": 3
   },
   "file_extension": ".py",
   "mimetype": "text/x-python",
   "name": "python",
   "nbconvert_exporter": "python",
   "pygments_lexer": "ipython3",
   "version": "3.12.10"
  }
 },
 "nbformat": 4,
 "nbformat_minor": 5
}
